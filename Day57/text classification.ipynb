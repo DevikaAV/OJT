{
 "cells": [
  {
   "cell_type": "code",
   "execution_count": 1,
   "id": "9354eb72-9248-4afc-ac8b-ab4198b076ca",
   "metadata": {
    "tags": []
   },
   "outputs": [
    {
     "name": "stdout",
     "output_type": "stream",
     "text": [
      "request: my account is  blocked\n",
      " category: Technical support\n",
      "\n",
      "request: I need my last billing details\n",
      " category: Billing Issue\n",
      "\n",
      "request: I need to know the timing of my order\n",
      " category: other support\n",
      "\n"
     ]
    }
   ],
   "source": [
    "from ast import keyword\n",
    "#rule based text xclassification\n",
    "\n",
    "def classify_request(text):\n",
    "    text = text.lower()\n",
    "    \n",
    "    if  any(keyword in text for keyword in [\"billing\", \"invoice\", \"charge\"]):\n",
    "        return \"Billing Issue\"\n",
    "    elif any(keyword in text for keyword in [\"password\",\"access\",\"login\",\"account\"]):\n",
    "        return \"Technical support\"\n",
    "    elif any(keyword in text for keyword in [\"hour\",\"time\",\"location\",\"general\"]):\n",
    "        return \"general support\"\n",
    "    else:\n",
    "        return \"other support\"\n",
    "    \n",
    "    #test sample\n",
    "requestes=[\n",
    "        \"my account is  blocked\",\n",
    "        \"I need my last billing details\",\n",
    "        \"I need to know the timing of my order\"\n",
    "    ]\n",
    "for request in requestes:\n",
    "        category = classify_request(request)\n",
    "        print(f\"request: {request}\\n category: {category}\\n\")"
   ]
  }
 ],
 "metadata": {
  "kernelspec": {
   "display_name": "Python 3 (ipykernel)",
   "language": "python",
   "name": "python3"
  },
  "language_info": {
   "codemirror_mode": {
    "name": "ipython",
    "version": 3
   },
   "file_extension": ".py",
   "mimetype": "text/x-python",
   "name": "python",
   "nbconvert_exporter": "python",
   "pygments_lexer": "ipython3",
   "version": "3.11.5"
  }
 },
 "nbformat": 4,
 "nbformat_minor": 5
}
