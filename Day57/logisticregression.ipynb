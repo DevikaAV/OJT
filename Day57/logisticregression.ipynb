{
 "cells": [
  {
   "cell_type": "code",
   "execution_count": 1,
   "id": "10064301-e951-43f6-a177-fd1a06e5f322",
   "metadata": {
    "tags": []
   },
   "outputs": [
    {
     "name": "stdout",
     "output_type": "stream",
     "text": [
      "Accuracy: 0.00%\n",
      "Prediction : 1\n"
     ]
    }
   ],
   "source": [
    "# create a model with logistic regression and bow for the text classification\n",
    "import numpy as np\n",
    "from sklearn.feature_extraction.text import CountVectorizer\n",
    "from sklearn.linear_model import LogisticRegression\n",
    "from sklearn.metrics import accuracy_score\n",
    "from sklearn.model_selection import train_test_split\n",
    "\n",
    "# create sample data\n",
    "reviews =[\n",
    "    \"i love te movie,it was good\",\n",
    "    \"the movie was boring\",\n",
    "    \"excellent movie,actors done well\",\n",
    "    \"it was a normal movie,nothing special\"\n",
    "]\n",
    "# positive =1,negative=0,neutral=2\n",
    "labels =[1,0,1,2]\n",
    "# create vectorization for the above\n",
    "vectorizer =CountVectorizer()\n",
    "X =vectorizer.fit_transform(reviews)\n",
    "y =np.array(labels)\n",
    "\n",
    "# splitted the trains sets  and  test sets\n",
    "x_train,x_test,y_train,y_test =train_test_split(X,y, test_size=0.2,random_state =42)\n",
    "\n",
    "# create   our model\n",
    "model=LogisticRegression()\n",
    "model.fit(x_train,y_train)\n",
    "y_pred=model.predict(x_test)\n",
    "accuracy=accuracy_score(y_test,y_pred)\n",
    "print(f\"Accuracy: {accuracy*100:.2f}%\")\n",
    "\n",
    "# create a sample review for the prediction\n",
    "new_review =[\"i really enjoyed the movie\"]\n",
    "\n",
    "new_review_transformed =vectorizer.transform(new_review)\n",
    "new_review_prediction =model.predict(new_review_transformed)\n",
    "print(f\"Prediction : {new_review_prediction[0]}\")"
   ]
  }
 ],
 "metadata": {
  "kernelspec": {
   "display_name": "Python 3 (ipykernel)",
   "language": "python",
   "name": "python3"
  },
  "language_info": {
   "codemirror_mode": {
    "name": "ipython",
    "version": 3
   },
   "file_extension": ".py",
   "mimetype": "text/x-python",
   "name": "python",
   "nbconvert_exporter": "python",
   "pygments_lexer": "ipython3",
   "version": "3.11.5"
  }
 },
 "nbformat": 4,
 "nbformat_minor": 5
}
