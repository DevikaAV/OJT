{
 "cells": [
  {
   "cell_type": "code",
   "execution_count": 1,
   "id": "e6f1067d-ec3e-4fc9-9b69-df678b501c98",
   "metadata": {
    "tags": []
   },
   "outputs": [
    {
     "name": "stdout",
     "output_type": "stream",
     "text": [
      "Accuracy: 0.8838\n",
      "Classification Report:\n",
      "              precision    recall  f1-score   support\n",
      "\n",
      "    negative       0.90      0.87      0.88      4961\n",
      "    positive       0.87      0.90      0.89      5039\n",
      "\n",
      "    accuracy                           0.88     10000\n",
      "   macro avg       0.88      0.88      0.88     10000\n",
      "weighted avg       0.88      0.88      0.88     10000\n",
      "\n",
      "Review: I absolutely loved this movie! The plot was great and the acting was superb.\n",
      "Predicted Sentiment: positive\n",
      "\n",
      "Review: This movie was terrible. I wasted two hours of my life watching it.\n",
      "Predicted Sentiment: negative\n",
      "\n",
      "Review: It was an okay movie. Not the best but not the worst either.\n",
      "Predicted Sentiment: negative\n",
      "\n"
     ]
    }
   ],
   "source": [
    "import pandas as pd\n",
    "import re\n",
    "from sklearn.model_selection import train_test_split\n",
    "from sklearn.feature_extraction.text import TfidfVectorizer\n",
    "from sklearn.linear_model import LogisticRegression\n",
    "from sklearn.metrics import classification_report, accuracy_score\n",
    "\n",
    "# Load the dataset\n",
    "file_path = 'IMDB Dataset.csv'\n",
    "imdb_data = pd.read_csv(file_path)\n",
    "\n",
    "# Function to clean text without using NLTK\n",
    "def simple_preprocess_text(text):\n",
    "    # Remove HTML tags\n",
    "    text = re.sub(r'<.*?>', '', text)\n",
    "    # Remove special characters and digits\n",
    "    text = re.sub(r'[^a-zA-Z\\s]', '', text)\n",
    "    # Convert text to lowercase\n",
    "    text = text.lower()\n",
    "    return text\n",
    "\n",
    "# Apply preprocessing to the reviews\n",
    "imdb_data['cleaned_review'] = imdb_data['review'].apply(simple_preprocess_text)\n",
    "\n",
    "# Split the dataset into training and testing sets\n",
    "X_train, X_test, y_train, y_test = train_test_split(imdb_data['cleaned_review'], imdb_data['sentiment'], test_size=0.2, random_state=42)\n",
    "\n",
    "# Vectorize the text data using TF-IDF\n",
    "tfidf_vectorizer = TfidfVectorizer(stop_words='english', max_features=5000)\n",
    "X_train_tfidf = tfidf_vectorizer.fit_transform(X_train)\n",
    "X_test_tfidf = tfidf_vectorizer.transform(X_test)\n",
    "\n",
    "# Train a Logistic Regression model\n",
    "model = LogisticRegression()\n",
    "model.fit(X_train_tfidf, y_train)\n",
    "\n",
    "# Evaluate the model\n",
    "y_pred = model.predict(X_test_tfidf)\n",
    "accuracy = accuracy_score(y_test, y_pred)\n",
    "report = classification_report(y_test, y_pred)\n",
    "\n",
    "print(f'Accuracy: {accuracy}')\n",
    "print('Classification Report:')\n",
    "print(report)\n",
    "\n",
    "# Function to predict sentiment of new reviews\n",
    "def predict_sentiment(reviews, model, vectorizer):\n",
    "    cleaned_reviews = [simple_preprocess_text(review) for review in reviews]\n",
    "    reviews_tfidf = vectorizer.transform(cleaned_reviews)\n",
    "    predictions = model.predict(reviews_tfidf)\n",
    "    return predictions\n",
    "\n",
    "# Example new reviews\n",
    "new_reviews = [\n",
    "    \"I absolutely loved this movie! The plot was great and the acting was superb.\",\n",
    "    \"This movie was terrible. I wasted two hours of my life watching it.\",\n",
    "    \"It was an okay movie. Not the best but not the worst either.\"\n",
    "]\n",
    "\n",
    "# Predict sentiment for new reviews\n",
    "predicted_sentiments = predict_sentiment(new_reviews, model, tfidf_vectorizer)\n",
    "for review, sentiment in zip(new_reviews, predicted_sentiments):\n",
    "    print(f'Review: {review}\\nPredicted Sentiment: {sentiment}\\n')"
   ]
  }
 ],
 "metadata": {
  "kernelspec": {
   "display_name": "Python 3 (ipykernel)",
   "language": "python",
   "name": "python3"
  },
  "language_info": {
   "codemirror_mode": {
    "name": "ipython",
    "version": 3
   },
   "file_extension": ".py",
   "mimetype": "text/x-python",
   "name": "python",
   "nbconvert_exporter": "python",
   "pygments_lexer": "ipython3",
   "version": "3.11.5"
  }
 },
 "nbformat": 4,
 "nbformat_minor": 5
}
