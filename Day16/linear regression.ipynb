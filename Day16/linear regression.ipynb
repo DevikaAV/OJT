{
 "cells": [
  {
   "cell_type": "code",
   "execution_count": 8,
   "id": "d6de35f4-9261-46a4-a3f4-82bdee62cc17",
   "metadata": {
    "tags": []
   },
   "outputs": [],
   "source": [
    "# importing  neccessary libraries\n",
    "import numpy as np\n",
    "import matplotlib.pyplot as plt\n",
    "from sklearn.model_selection import train_test_split\n",
    "from sklearn.linear_model import LinearRegression\n",
    "from sklearn.metrics import mean_squared_error"
   ]
  },
  {
   "cell_type": "code",
   "execution_count": 14,
   "id": "016e3283-3d8b-4676-a1cd-1b996286cfa5",
   "metadata": {
    "tags": []
   },
   "outputs": [
    {
     "name": "stdout",
     "output_type": "stream",
     "text": [
      "[[1.09762701]\n",
      " [1.43037873]\n",
      " [1.20552675]\n",
      " [1.08976637]\n",
      " [0.8473096 ]\n",
      " [1.29178823]\n",
      " [0.87517442]\n",
      " [1.783546  ]\n",
      " [1.92732552]\n",
      " [0.76688304]\n",
      " [1.58345008]\n",
      " [1.05778984]\n",
      " [1.13608912]\n",
      " [1.85119328]\n",
      " [0.14207212]\n",
      " [0.1742586 ]\n",
      " [0.04043679]\n",
      " [1.66523969]\n",
      " [1.5563135 ]\n",
      " [1.7400243 ]\n",
      " [1.95723668]\n",
      " [1.59831713]\n",
      " [0.92295872]\n",
      " [1.56105835]\n",
      " [0.23654885]\n",
      " [1.27984204]\n",
      " [0.28670657]\n",
      " [1.88933783]\n",
      " [1.04369664]\n",
      " [0.82932388]\n",
      " [0.52911122]\n",
      " [1.54846738]\n",
      " [0.91230066]\n",
      " [1.1368679 ]\n",
      " [0.0375796 ]\n",
      " [1.23527099]\n",
      " [1.22419145]\n",
      " [1.23386799]\n",
      " [1.88749616]\n",
      " [1.3636406 ]\n",
      " [0.7190158 ]\n",
      " [0.87406391]\n",
      " [1.39526239]\n",
      " [0.12045094]\n",
      " [1.33353343]\n",
      " [1.34127574]\n",
      " [0.42076512]\n",
      " [0.2578526 ]\n",
      " [0.6308567 ]\n",
      " [0.72742154]\n",
      " [1.14039354]\n",
      " [0.87720303]\n",
      " [1.97674768]\n",
      " [0.20408962]\n",
      " [0.41775351]\n",
      " [0.32261904]\n",
      " [1.30621665]\n",
      " [0.50658321]\n",
      " [0.93262155]\n",
      " [0.48885118]\n",
      " [0.31793917]\n",
      " [0.22075028]\n",
      " [1.31265918]\n",
      " [0.2763659 ]\n",
      " [0.39316472]\n",
      " [0.73745034]\n",
      " [1.64198646]\n",
      " [0.19420255]\n",
      " [1.67588981]\n",
      " [0.19219682]\n",
      " [1.95291893]\n",
      " [0.9373024 ]\n",
      " [1.95352218]\n",
      " [1.20969104]\n",
      " [1.47852716]\n",
      " [0.07837558]\n",
      " [0.56561393]\n",
      " [0.24039312]\n",
      " [0.5922804 ]\n",
      " [0.23745544]\n",
      " [0.63596636]\n",
      " [0.82852599]\n",
      " [0.12829499]\n",
      " [1.38494424]\n",
      " [1.13320291]\n",
      " [0.53077898]\n",
      " [1.04649611]\n",
      " [0.18788102]\n",
      " [1.15189299]\n",
      " [1.8585924 ]\n",
      " [0.6371379 ]\n",
      " [1.33482076]\n",
      " [0.26359572]\n",
      " [1.43265441]\n",
      " [0.57881219]\n",
      " [0.36638272]\n",
      " [1.17302587]\n",
      " [0.04021509]\n",
      " [1.65788006]\n",
      " [0.00939095]]\n"
     ]
    }
   ],
   "source": [
    "# generating some sample data\n",
    "np.random.seed(0)\n",
    "X=2 * np.random.rand(100,1)\n",
    "# independent variable(feature)\n",
    "y=4+3 * X+np.random.randn(100,1)\n",
    "# dependent variable(target)\n",
    "print(X)"
   ]
  },
  {
   "cell_type": "code",
   "execution_count": 13,
   "id": "ff58145d-1ed3-4067-a505-fefb2b3c622d",
   "metadata": {
    "tags": []
   },
   "outputs": [],
   "source": [
    "# splitting the data into training and test sets\n",
    "X_train,X_test,y_train,y_test =train_test_split(X,y,test_size=0.2, random_state=42)"
   ]
  },
  {
   "cell_type": "code",
   "execution_count": 16,
   "id": "7d76e93e-3d7b-4fa8-8436-446f28df0429",
   "metadata": {
    "tags": []
   },
   "outputs": [
    {
     "data": {
      "text/html": [
       "<style>#sk-container-id-3 {color: black;}#sk-container-id-3 pre{padding: 0;}#sk-container-id-3 div.sk-toggleable {background-color: white;}#sk-container-id-3 label.sk-toggleable__label {cursor: pointer;display: block;width: 100%;margin-bottom: 0;padding: 0.3em;box-sizing: border-box;text-align: center;}#sk-container-id-3 label.sk-toggleable__label-arrow:before {content: \"▸\";float: left;margin-right: 0.25em;color: #696969;}#sk-container-id-3 label.sk-toggleable__label-arrow:hover:before {color: black;}#sk-container-id-3 div.sk-estimator:hover label.sk-toggleable__label-arrow:before {color: black;}#sk-container-id-3 div.sk-toggleable__content {max-height: 0;max-width: 0;overflow: hidden;text-align: left;background-color: #f0f8ff;}#sk-container-id-3 div.sk-toggleable__content pre {margin: 0.2em;color: black;border-radius: 0.25em;background-color: #f0f8ff;}#sk-container-id-3 input.sk-toggleable__control:checked~div.sk-toggleable__content {max-height: 200px;max-width: 100%;overflow: auto;}#sk-container-id-3 input.sk-toggleable__control:checked~label.sk-toggleable__label-arrow:before {content: \"▾\";}#sk-container-id-3 div.sk-estimator input.sk-toggleable__control:checked~label.sk-toggleable__label {background-color: #d4ebff;}#sk-container-id-3 div.sk-label input.sk-toggleable__control:checked~label.sk-toggleable__label {background-color: #d4ebff;}#sk-container-id-3 input.sk-hidden--visually {border: 0;clip: rect(1px 1px 1px 1px);clip: rect(1px, 1px, 1px, 1px);height: 1px;margin: -1px;overflow: hidden;padding: 0;position: absolute;width: 1px;}#sk-container-id-3 div.sk-estimator {font-family: monospace;background-color: #f0f8ff;border: 1px dotted black;border-radius: 0.25em;box-sizing: border-box;margin-bottom: 0.5em;}#sk-container-id-3 div.sk-estimator:hover {background-color: #d4ebff;}#sk-container-id-3 div.sk-parallel-item::after {content: \"\";width: 100%;border-bottom: 1px solid gray;flex-grow: 1;}#sk-container-id-3 div.sk-label:hover label.sk-toggleable__label {background-color: #d4ebff;}#sk-container-id-3 div.sk-serial::before {content: \"\";position: absolute;border-left: 1px solid gray;box-sizing: border-box;top: 0;bottom: 0;left: 50%;z-index: 0;}#sk-container-id-3 div.sk-serial {display: flex;flex-direction: column;align-items: center;background-color: white;padding-right: 0.2em;padding-left: 0.2em;position: relative;}#sk-container-id-3 div.sk-item {position: relative;z-index: 1;}#sk-container-id-3 div.sk-parallel {display: flex;align-items: stretch;justify-content: center;background-color: white;position: relative;}#sk-container-id-3 div.sk-item::before, #sk-container-id-3 div.sk-parallel-item::before {content: \"\";position: absolute;border-left: 1px solid gray;box-sizing: border-box;top: 0;bottom: 0;left: 50%;z-index: -1;}#sk-container-id-3 div.sk-parallel-item {display: flex;flex-direction: column;z-index: 1;position: relative;background-color: white;}#sk-container-id-3 div.sk-parallel-item:first-child::after {align-self: flex-end;width: 50%;}#sk-container-id-3 div.sk-parallel-item:last-child::after {align-self: flex-start;width: 50%;}#sk-container-id-3 div.sk-parallel-item:only-child::after {width: 0;}#sk-container-id-3 div.sk-dashed-wrapped {border: 1px dashed gray;margin: 0 0.4em 0.5em 0.4em;box-sizing: border-box;padding-bottom: 0.4em;background-color: white;}#sk-container-id-3 div.sk-label label {font-family: monospace;font-weight: bold;display: inline-block;line-height: 1.2em;}#sk-container-id-3 div.sk-label-container {text-align: center;}#sk-container-id-3 div.sk-container {/* jupyter's `normalize.less` sets `[hidden] { display: none; }` but bootstrap.min.css set `[hidden] { display: none !important; }` so we also need the `!important` here to be able to override the default hidden behavior on the sphinx rendered scikit-learn.org. See: https://github.com/scikit-learn/scikit-learn/issues/21755 */display: inline-block !important;position: relative;}#sk-container-id-3 div.sk-text-repr-fallback {display: none;}</style><div id=\"sk-container-id-3\" class=\"sk-top-container\"><div class=\"sk-text-repr-fallback\"><pre>LinearRegression()</pre><b>In a Jupyter environment, please rerun this cell to show the HTML representation or trust the notebook. <br />On GitHub, the HTML representation is unable to render, please try loading this page with nbviewer.org.</b></div><div class=\"sk-container\" hidden><div class=\"sk-item\"><div class=\"sk-estimator sk-toggleable\"><input class=\"sk-toggleable__control sk-hidden--visually\" id=\"sk-estimator-id-3\" type=\"checkbox\" checked><label for=\"sk-estimator-id-3\" class=\"sk-toggleable__label sk-toggleable__label-arrow\">LinearRegression</label><div class=\"sk-toggleable__content\"><pre>LinearRegression()</pre></div></div></div></div></div>"
      ],
      "text/plain": [
       "LinearRegression()"
      ]
     },
     "execution_count": 16,
     "metadata": {},
     "output_type": "execute_result"
    }
   ],
   "source": [
    "# Training th linear regression model\n",
    "LR=LinearRegression()\n",
    "LR.fit(X_train,y_train)"
   ]
  },
  {
   "cell_type": "code",
   "execution_count": 15,
   "id": "b065a62c-eafb-4742-90d2-6535e5d621e0",
   "metadata": {
    "tags": []
   },
   "outputs": [
    {
     "name": "stdout",
     "output_type": "stream",
     "text": [
      "[[ 8.3476823 ]\n",
      " [ 4.81662104]\n",
      " [10.04607379]\n",
      " [ 8.21710217]\n",
      " [ 8.19395067]\n",
      " [ 8.2839789 ]\n",
      " [ 6.96622591]\n",
      " [ 6.10804438]\n",
      " [ 8.94126619]\n",
      " [ 7.48852934]\n",
      " [ 8.8601208 ]\n",
      " [ 5.78851984]\n",
      " [ 7.82362983]\n",
      " [ 7.60586977]\n",
      " [ 6.11154761]\n",
      " [ 6.74001543]\n",
      " [ 5.89767238]\n",
      " [ 4.92517791]\n",
      " [ 7.60354103]\n",
      " [ 8.83665886]]\n"
     ]
    }
   ],
   "source": [
    "# making prediction on the testing set\n",
    "y_pred=LR.predict(X_test)\n",
    "print(y_pred)"
   ]
  },
  {
   "cell_type": "code",
   "execution_count": 18,
   "id": "7559646e-1563-4847-a1ee-2f70dfc354d7",
   "metadata": {
    "tags": []
   },
   "outputs": [
    {
     "name": "stdout",
     "output_type": "stream",
     "text": [
      "mean squared error : 0.9177532469714291\n"
     ]
    }
   ],
   "source": [
    "# calculating the mean squared error\n",
    "\n",
    "mse=mean_squared_error(y_test,y_pred)\n",
    "print(\"mean squared error :\" ,mse)\n"
   ]
  },
  {
   "cell_type": "code",
   "execution_count": 19,
   "id": "9c79ab0a-8f53-459a-9c04-04476e0b255f",
   "metadata": {
    "tags": []
   },
   "outputs": [
    {
     "data": {
      "image/png": "[encoded data removed]",
      "text/plain": [
       "<Figure size 640x480 with 1 Axes>"
      ]
     },
     "metadata": {},
     "output_type": "display_data"
    }
   ],
   "source": [
    "# plotting the training data\n",
    "plt.scatter(X_train,y_train,color='blue',label ='Training Data')\n",
    "# plotting the testing data\n",
    "plt.scatter(X_test,y_test,color='green',label ='Testing Data')\n",
    "# plotting the regression line\n",
    "plt.plot(X_test,y_pred ,color=\"red\",label=\"regression line\")\n",
    "plt.title('Simple linear Regression')\n",
    "plt.xlabel('X')\n",
    "plt.ylabel('y')\n",
    "plt.legend()\n",
    "plt.show()\n"
   ]
  },
  {
   "cell_type": "code",
   "execution_count": null,
   "id": "be7c3539-47ca-4f78-890e-7b6263838d31",
   "metadata": {},
   "outputs": [],
   "source": []
  }
 ],
 "metadata": {
  "kernelspec": {
   "display_name": "Python 3 (ipykernel)",
   "language": "python",
   "name": "python3"
  },
  "language_info": {
   "codemirror_mode": {
    "name": "ipython",
    "version": 3
   },
   "file_extension": ".py",
   "mimetype": "text/x-python",
   "name": "python",
   "nbconvert_exporter": "python",
   "pygments_lexer": "ipython3",
   "version": "3.11.5"
  }
 },
 "nbformat": 4,
 "nbformat_minor": 5
}
