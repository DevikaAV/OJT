{
 "cells": [
  {
   "cell_type": "code",
   "execution_count": 1,
   "id": "eb5e9d33-f069-4331-8695-ba66a6b93f94",
   "metadata": {
    "tags": []
   },
   "outputs": [],
   "source": [
    "import cv2\n",
    "import numpy as np\n",
    "\n",
    "# Read the image with the particular library which we have imported\n",
    "image = cv2.imread('test.jpg')\n",
    "\n",
    "if image is None:\n",
    "    print(\"Could not read the image\")\n",
    "    exit()\n",
    "\n",
    "# Display the original image\n",
    "cv2.imshow (\"Original Image\", image)\n",
    "cv2.waitKey(0)\n",
    "cv2.destroyAllWindows()\n",
    "# convert to grayscale\n",
    "\n",
    "grey_image = cv2.cvtColor(image, cv2.COLOR_BGR2GRAY)\n",
    "\n",
    "cv2.imshow(\"grayscaleimage\", grey_image)\n",
    "cv2.waitKey(0)\n",
    "cv2.destroyAllWindows()\n",
    "\n",
    "# we apply a guassian blur into the above image\n",
    "blurred_image = cv2.GaussianBlur(grey_image, (5, 5),0)\n",
    "cv2.imshow(\"blur image\", blurred_image)\n",
    "cv2.waitKey(0)\n",
    "cv2.destroyAllWindows()\n",
    "# edge detection by using canny in cv2\n",
    "edges =cv2.Canny(blurred_image,50,150)\n",
    "\n",
    "# orginal image\n",
    "cv2.imshow(\"Original Image\", image)\n",
    "cv2.waitKey(0)\n",
    "\n",
    "cv2.imshow(\"greyscale Image\", grey_image)\n",
    "cv2.waitKey(0)\n",
    "\n",
    "cv2.imshow(\"blurred Image\",blurred_image )\n",
    "cv2.waitKey(0)\n",
    "\n",
    "cv2.imshow(\"edges\",edges)\n",
    "cv2.waitKey(0)\n",
    "cv2.destroyAllWindows()\n",
    "\n",
    "\n"
   ]
  }
 ],
 "metadata": {
  "kernelspec": {
   "display_name": "Python 3 (ipykernel)",
   "language": "python",
   "name": "python3"
  },
  "language_info": {
   "codemirror_mode": {
    "name": "ipython",
    "version": 3
   },
   "file_extension": ".py",
   "mimetype": "text/x-python",
   "name": "python",
   "nbconvert_exporter": "python",
   "pygments_lexer": "ipython3",
   "version": "3.11.5"
  }
 },
 "nbformat": 4,
 "nbformat_minor": 5
}
